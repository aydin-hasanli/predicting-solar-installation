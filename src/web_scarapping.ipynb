{
 "metadata": {
  "language_info": {
   "codemirror_mode": {
    "name": "ipython",
    "version": 3
   },
   "file_extension": ".py",
   "mimetype": "text/x-python",
   "name": "python",
   "nbconvert_exporter": "python",
   "pygments_lexer": "ipython3",
   "version": "3.7.7-final"
  },
  "orig_nbformat": 2,
  "kernelspec": {
   "name": "python3",
   "display_name": "Python 3",
   "language": "python"
  }
 },
 "nbformat": 4,
 "nbformat_minor": 2,
 "cells": [
  {
   "cell_type": "code",
   "execution_count": 2,
   "metadata": {},
   "outputs": [],
   "source": [
    "import requests\n",
    "from tqdm import tqdm\n",
    "from bs4 import BeautifulSoup"
   ]
  },
  {
   "cell_type": "code",
   "execution_count": 3,
   "metadata": {},
   "outputs": [],
   "source": [
    "URL = \"https://www.energytrend.com/pricequotes/list-{}.html\"\n",
    "PAGES = range(1,51)\n",
    "URLS = [URL.format(page) for page in PAGES]"
   ]
  },
  {
   "cell_type": "code",
   "execution_count": 5,
   "metadata": {},
   "outputs": [
    {
     "output_type": "execute_result",
     "data": {
      "text/plain": [
       "'https://www.energytrend.com/pricequotes/list-2.html'"
      ]
     },
     "metadata": {},
     "execution_count": 5
    }
   ],
   "source": [
    "url1=URLS[1]\n",
    "url1"
   ]
  },
  {
   "cell_type": "code",
   "execution_count": 21,
   "metadata": {},
   "outputs": [
    {
     "output_type": "stream",
     "name": "stdout",
     "text": [
      "20201028-19709.html\n20201021-19671.html\n20201014-19600.html\n20200930-19477.html\n20200923-19415.html\n20200916-19394.html\n20200909-19333.html\n20200904-19305.html\n20200827-19273.html\n20200820-19248.html\n"
     ]
    }
   ],
   "source": [
    "html = requests.get(url1).text\n",
    "soup = BeautifulSoup(html, features=\"html.parser\")\n",
    "articles = soup.find_all(\"article\")\n",
    "for article in articles:\n",
    "     article_url = article.find(\"table\").find(\"h1\").find(\"a\")['href']\n",
    "     file_name = article_url.split(\"/\")[-1]\n",
    "     print(file_name)"
   ]
  },
  {
   "cell_type": "code",
   "execution_count": 20,
   "metadata": {},
   "outputs": [],
   "source": [
    "# for article in articles:\n",
    "#             title = article.find(\"table\").find(\"h1\").find(\"a\").text\n",
    "#             article_url = article.find(\"table\").find(\"h1\").find(\"a\")['href']\n",
    "#             # obtain and save the content of the link\n",
    "#             file_name = article_url.split(\"/\")[-1]"
   ]
  },
  {
   "cell_type": "code",
   "execution_count": null,
   "metadata": {},
   "outputs": [],
   "source": [
    "# with open(\"title_date.csv\",\"w\") as fp:\n",
    "#     for url in tqdm(URLS):\n",
    "#         html = requests.get(url).text\n",
    "#         # save html\n",
    "#         soup = BeautifulSoup(html, features=\"html.parser\")\n",
    "#         articles = soup.find_all(\"article\")\n",
    "#         for article in articles:\n",
    "#             title = article.find(\"table\").find(\"h1\").find(\"a\").text\n",
    "#             article_url = article.find(\"table\").find(\"h1\").find(\"a\")['href']\n",
    "#             # obtain and save the content of the link\n",
    "#             file_name = article_url.split(\"/\")[-1]\n",
    "#             with open(\"solar/\" + file_name, \"w\") as fp_artcile:\n",
    "#                 artcile_html = requests.get(article_url).text\n",
    "#                 fp_artcile.write(artcile_html)\n",
    "#             date = article.find(\"table\").find(\"span\", attrs={\"class\":\"newsdate\"}).text\n",
    "#             fp.write(title+\"\\t\\t\"+date+\"\\n\")"
   ]
  }
 ]
}