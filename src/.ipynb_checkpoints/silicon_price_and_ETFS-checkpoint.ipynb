{
 "cells": [
  {
   "cell_type": "code",
   "execution_count": 1,
   "metadata": {},
   "outputs": [],
   "source": [
    "import pandas as pd\n",
    "import numpy as np\n",
    "import matplotlib.pyplot as plt"
   ]
  },
  {
   "cell_type": "code",
   "execution_count": 2,
   "metadata": {},
   "outputs": [],
   "source": [
    "silicone_price=pd.read_csv('cleaned_prices.csv', na_values=['none'] )"
   ]
  },
  {
   "cell_type": "code",
   "execution_count": 3,
   "metadata": {},
   "outputs": [],
   "source": [
    "#silicone_price['date']=pd.to_datetime(silicone_price.date).dt.date\n",
    "silicone_price['date'] = pd.to_datetime(silicone_price['date'])"
   ]
  },
  {
   "cell_type": "code",
   "execution_count": 4,
   "metadata": {},
   "outputs": [
    {
     "name": "stdout",
     "output_type": "stream",
     "text": [
      "<class 'pandas.core.frame.DataFrame'>\n",
      "DatetimeIndex: 492 entries, 2011-01-14 13:55:00 to 2021-01-06 15:31:00\n",
      "Data columns (total 5 columns):\n",
      " #   Column           Non-Null Count  Dtype         \n",
      "---  ------           --------------  -----         \n",
      " 0   date             492 non-null    datetime64[ns]\n",
      " 1   link             492 non-null    object        \n",
      " 2   cost_parsed_USD  364 non-null    float64       \n",
      " 3   cost_parsed_RMB  97 non-null     object        \n",
      " 4   extrapolated     19 non-null     object        \n",
      "dtypes: datetime64[ns](1), float64(1), object(3)\n",
      "memory usage: 23.1+ KB\n"
     ]
    }
   ],
   "source": [
    "silicone_price=silicone_price.set_index('date', drop=False)\n",
    "silicone_price.info()\n",
    "#silicone_price"
   ]
  },
  {
   "cell_type": "code",
   "execution_count": 5,
   "metadata": {},
   "outputs": [],
   "source": [
    "price_series=silicone_price.cost_parsed_USD"
   ]
  },
  {
   "cell_type": "code",
   "execution_count": 6,
   "metadata": {},
   "outputs": [
    {
     "data": {
      "text/plain": [
       "date\n",
       "2011-01-31    69.5000\n",
       "2011-02-28    72.3000\n",
       "2011-03-31    78.5000\n",
       "2011-04-30    78.0000\n",
       "2011-05-31    70.0875\n",
       "               ...   \n",
       "2020-09-30    11.6950\n",
       "2020-10-31    11.4760\n",
       "2020-11-30    10.9620\n",
       "2020-12-31    10.4840\n",
       "2021-01-31    10.9310\n",
       "Freq: M, Name: cost_parsed_USD, Length: 121, dtype: float64"
      ]
     },
     "execution_count": 6,
     "metadata": {},
     "output_type": "execute_result"
    }
   ],
   "source": [
    "price_series.resample('M').median()"
   ]
  },
  {
   "cell_type": "code",
   "execution_count": 7,
   "metadata": {},
   "outputs": [
    {
     "data": {
      "image/png": "[encoded data removed]",
      "text/plain": [
       "<Figure size 1296x360 with 1 Axes>"
      ]
     },
     "metadata": {
      "needs_background": "light"
     },
     "output_type": "display_data"
    }
   ],
   "source": [
    "fig, ax = plt.subplots(1,1, figsize=(18,5), constrained_layout=True)\n",
    "#ax.plot(price_series.resample('M').median().index.date, price_series.resample('M').median())\n",
    "#fig, ax = plt.subplots(1,1, figsize=(18,5), constrained_layout=True)\n",
    "ax.plot(price_series.resample('M').mean().index.date, price_series.resample('M').mean())\n",
    "plt.title('Monthly Polysilicone Mean From 2020')\n",
    "plt.show()\n",
    "#price_series.resample('M').mean()[price_series.resample('M').mean().isna()]"
   ]
  },
  {
   "cell_type": "code",
   "execution_count": 8,
   "metadata": {},
   "outputs": [],
   "source": [
    "import yfinance as yf"
   ]
  },
  {
   "cell_type": "code",
   "execution_count": 10,
   "metadata": {},
   "outputs": [
    {
     "name": "stdout",
     "output_type": "stream",
     "text": [
      "[*********************100%***********************]  1 of 1 completed\n"
     ]
    }
   ],
   "source": [
    "icln = yf.download(  # or pdr.get_data_yahoo(...\n",
    "        # tickers list or string as well\n",
    "        tickers = \"ICLN\",\n",
    "\n",
    "        # use \"period\" instead of start/end\n",
    "        # valid periods: 1d,5d,1mo,3mo,6mo,1y,2y,5y,10y,ytd,max\n",
    "        # (optional, default is '1mo')\n",
    "        period = \"max\",\n",
    "\n",
    "        # fetch data by interval (including intraday if period < 60 days)\n",
    "        # valid intervals: 1m,2m,5m,15m,30m,60m,90m,1h,1d,5d,1wk,1mo,3mo\n",
    "        # (optional, default is '1d')\n",
    "        interval = \"1d\",\n",
    "\n",
    "        # group by ticker (to access via data['SPY'])\n",
    "        # (optional, default is 'column')\n",
    "        #group_by = 'ticker',\n",
    "\n",
    "        # adjust all OHLC automatically\n",
    "        # (optional, default is False)\n",
    "        auto_adjust = True,\n",
    "\n",
    "        # download pre/post regular market hours data\n",
    "        # (optional, default is False)\n",
    "        prepost = False,\n",
    "\n",
    "        # use threads for mass downloading? (True/False/Integer)\n",
    "        # (optional, default is True)\n",
    "        threads = True,\n",
    "\n",
    "        # proxy URL scheme use use when downloading?\n",
    "        # (optional, default is None)\n",
    "        proxy = None\n",
    "    )\n"
   ]
  },
  {
   "cell_type": "code",
   "execution_count": 11,
   "metadata": {},
   "outputs": [
    {
     "data": {
      "text/html": [
       "<div>\n",
       "<style scoped>\n",
       "    .dataframe tbody tr th:only-of-type {\n",
       "        vertical-align: middle;\n",
       "    }\n",
       "\n",
       "    .dataframe tbody tr th {\n",
       "        vertical-align: top;\n",
       "    }\n",
       "\n",
       "    .dataframe thead th {\n",
       "        text-align: right;\n",
       "    }\n",
       "</style>\n",
       "<table border=\"1\" class=\"dataframe\">\n",
       "  <thead>\n",
       "    <tr style=\"text-align: right;\">\n",
       "      <th></th>\n",
       "      <th>Open</th>\n",
       "      <th>High</th>\n",
       "      <th>Low</th>\n",
       "      <th>Close</th>\n",
       "      <th>Volume</th>\n",
       "    </tr>\n",
       "    <tr>\n",
       "      <th>Date</th>\n",
       "      <th></th>\n",
       "      <th></th>\n",
       "      <th></th>\n",
       "      <th></th>\n",
       "      <th></th>\n",
       "    </tr>\n",
       "  </thead>\n",
       "  <tbody>\n",
       "    <tr>\n",
       "      <th>2008-06-25</th>\n",
       "      <td>39.086979</td>\n",
       "      <td>39.633074</td>\n",
       "      <td>39.086979</td>\n",
       "      <td>39.475979</td>\n",
       "      <td>2100</td>\n",
       "    </tr>\n",
       "    <tr>\n",
       "      <th>2008-06-26</th>\n",
       "      <td>44.884574</td>\n",
       "      <td>44.884574</td>\n",
       "      <td>38.144408</td>\n",
       "      <td>38.196774</td>\n",
       "      <td>9800</td>\n",
       "    </tr>\n",
       "    <tr>\n",
       "      <th>2008-06-27</th>\n",
       "      <td>37.994791</td>\n",
       "      <td>37.994791</td>\n",
       "      <td>37.471137</td>\n",
       "      <td>37.523502</td>\n",
       "      <td>7700</td>\n",
       "    </tr>\n",
       "    <tr>\n",
       "      <th>2008-06-30</th>\n",
       "      <td>37.979828</td>\n",
       "      <td>38.121961</td>\n",
       "      <td>37.590828</td>\n",
       "      <td>37.590828</td>\n",
       "      <td>17100</td>\n",
       "    </tr>\n",
       "    <tr>\n",
       "      <th>2008-07-01</th>\n",
       "      <td>37.403819</td>\n",
       "      <td>37.403819</td>\n",
       "      <td>35.952551</td>\n",
       "      <td>36.506126</td>\n",
       "      <td>14900</td>\n",
       "    </tr>\n",
       "    <tr>\n",
       "      <th>...</th>\n",
       "      <td>...</td>\n",
       "      <td>...</td>\n",
       "      <td>...</td>\n",
       "      <td>...</td>\n",
       "      <td>...</td>\n",
       "    </tr>\n",
       "    <tr>\n",
       "      <th>2021-01-05</th>\n",
       "      <td>28.770000</td>\n",
       "      <td>29.459999</td>\n",
       "      <td>28.750000</td>\n",
       "      <td>29.290001</td>\n",
       "      <td>10744800</td>\n",
       "    </tr>\n",
       "    <tr>\n",
       "      <th>2021-01-06</th>\n",
       "      <td>30.610001</td>\n",
       "      <td>32.169998</td>\n",
       "      <td>30.420000</td>\n",
       "      <td>31.400000</td>\n",
       "      <td>21173200</td>\n",
       "    </tr>\n",
       "    <tr>\n",
       "      <th>2021-01-07</th>\n",
       "      <td>32.970001</td>\n",
       "      <td>33.790001</td>\n",
       "      <td>32.619999</td>\n",
       "      <td>33.410000</td>\n",
       "      <td>22989400</td>\n",
       "    </tr>\n",
       "    <tr>\n",
       "      <th>2021-01-08</th>\n",
       "      <td>34.150002</td>\n",
       "      <td>34.250000</td>\n",
       "      <td>32.630001</td>\n",
       "      <td>33.160000</td>\n",
       "      <td>17679200</td>\n",
       "    </tr>\n",
       "    <tr>\n",
       "      <th>2021-01-11</th>\n",
       "      <td>31.680000</td>\n",
       "      <td>32.220001</td>\n",
       "      <td>31.129999</td>\n",
       "      <td>32.064999</td>\n",
       "      <td>8113960</td>\n",
       "    </tr>\n",
       "  </tbody>\n",
       "</table>\n",
       "<p>3159 rows × 5 columns</p>\n",
       "</div>"
      ],
      "text/plain": [
       "                 Open       High        Low      Close    Volume\n",
       "Date                                                            \n",
       "2008-06-25  39.086979  39.633074  39.086979  39.475979      2100\n",
       "2008-06-26  44.884574  44.884574  38.144408  38.196774      9800\n",
       "2008-06-27  37.994791  37.994791  37.471137  37.523502      7700\n",
       "2008-06-30  37.979828  38.121961  37.590828  37.590828     17100\n",
       "2008-07-01  37.403819  37.403819  35.952551  36.506126     14900\n",
       "...               ...        ...        ...        ...       ...\n",
       "2021-01-05  28.770000  29.459999  28.750000  29.290001  10744800\n",
       "2021-01-06  30.610001  32.169998  30.420000  31.400000  21173200\n",
       "2021-01-07  32.970001  33.790001  32.619999  33.410000  22989400\n",
       "2021-01-08  34.150002  34.250000  32.630001  33.160000  17679200\n",
       "2021-01-11  31.680000  32.220001  31.129999  32.064999   8113960\n",
       "\n",
       "[3159 rows x 5 columns]"
      ]
     },
     "execution_count": 11,
     "metadata": {},
     "output_type": "execute_result"
    }
   ],
   "source": [
    "icln"
   ]
  },
  {
   "cell_type": "code",
   "execution_count": 13,
   "metadata": {},
   "outputs": [],
   "source": [
    "icln = icln.resample('M').last()"
   ]
  },
  {
   "cell_type": "code",
   "execution_count": 21,
   "metadata": {},
   "outputs": [
    {
     "name": "stdout",
     "output_type": "stream",
     "text": [
      "<class 'pandas.core.frame.DataFrame'>\n",
      "DatetimeIndex: 152 entries, 2008-06-30 to 2021-01-31\n",
      "Freq: M\n",
      "Data columns (total 5 columns):\n",
      " #   Column  Non-Null Count  Dtype  \n",
      "---  ------  --------------  -----  \n",
      " 0   Open    152 non-null    float64\n",
      " 1   High    152 non-null    float64\n",
      " 2   Low     152 non-null    float64\n",
      " 3   Close   152 non-null    float64\n",
      " 4   Volume  152 non-null    int64  \n",
      "dtypes: float64(4), int64(1)\n",
      "memory usage: 7.1 KB\n"
     ]
    }
   ],
   "source": [
    "icln.info()"
   ]
  },
  {
   "cell_type": "code",
   "execution_count": 16,
   "metadata": {},
   "outputs": [
    {
     "name": "stdout",
     "output_type": "stream",
     "text": [
      "[*********************100%***********************]  1 of 1 completed\n"
     ]
    }
   ],
   "source": [
    "tan = yf.download( \n",
    "        tickers = \"TAN\",\n",
    "        period = \"max\",\n",
    "        interval = \"1d\",\n",
    "        auto_adjust = True,\n",
    "        prepost = False,\n",
    "        threads = True,\n",
    "        proxy = None\n",
    "    )"
   ]
  },
  {
   "cell_type": "code",
   "execution_count": 18,
   "metadata": {},
   "outputs": [],
   "source": [
    "tan = tan.resample('M').last()"
   ]
  },
  {
   "cell_type": "code",
   "execution_count": 19,
   "metadata": {},
   "outputs": [
    {
     "name": "stdout",
     "output_type": "stream",
     "text": [
      "<class 'pandas.core.frame.DataFrame'>\n",
      "DatetimeIndex: 154 entries, 2008-04-30 to 2021-01-31\n",
      "Freq: M\n",
      "Data columns (total 5 columns):\n",
      " #   Column  Non-Null Count  Dtype  \n",
      "---  ------  --------------  -----  \n",
      " 0   Open    154 non-null    float64\n",
      " 1   High    154 non-null    float64\n",
      " 2   Low     154 non-null    float64\n",
      " 3   Close   154 non-null    float64\n",
      " 4   Volume  154 non-null    int64  \n",
      "dtypes: float64(4), int64(1)\n",
      "memory usage: 7.2 KB\n"
     ]
    }
   ],
   "source": [
    "tan.info()"
   ]
  },
  {
   "cell_type": "code",
   "execution_count": 20,
   "metadata": {},
   "outputs": [
    {
     "name": "stdout",
     "output_type": "stream",
     "text": [
      "[*********************100%***********************]  1 of 1 completed\n",
      "<class 'pandas.core.frame.DataFrame'>\n",
      "DatetimeIndex: 168 entries, 2007-02-28 to 2021-01-31\n",
      "Freq: M\n",
      "Data columns (total 5 columns):\n",
      " #   Column  Non-Null Count  Dtype  \n",
      "---  ------  --------------  -----  \n",
      " 0   Open    168 non-null    float64\n",
      " 1   High    168 non-null    float64\n",
      " 2   Low     168 non-null    float64\n",
      " 3   Close   168 non-null    float64\n",
      " 4   Volume  168 non-null    int64  \n",
      "dtypes: float64(4), int64(1)\n",
      "memory usage: 7.9 KB\n"
     ]
    }
   ],
   "source": [
    "qcln = yf.download( \n",
    "        tickers = \"QCLN\",\n",
    "        period = \"max\",\n",
    "        interval = \"1d\",\n",
    "        auto_adjust = True,\n",
    "        prepost = False,\n",
    "        threads = True,\n",
    "        proxy = None\n",
    "    )\n",
    "qcln = qcln.resample('M').last()\n",
    "qcln.info()"
   ]
  },
  {
   "cell_type": "code",
   "execution_count": null,
   "metadata": {},
   "outputs": [],
   "source": []
  }
 ],
 "metadata": {
  "kernelspec": {
   "display_name": "Python 3",
   "language": "python",
   "name": "python3"
  },
  "language_info": {
   "codemirror_mode": {
    "name": "ipython",
    "version": 3
   },
   "file_extension": ".py",
   "mimetype": "text/x-python",
   "name": "python",
   "nbconvert_exporter": "python",
   "pygments_lexer": "ipython3",
   "version": "3.7.7"
  }
 },
 "nbformat": 4,
 "nbformat_minor": 4
}
