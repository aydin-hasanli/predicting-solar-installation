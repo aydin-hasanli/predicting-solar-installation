{
 "metadata": {
  "language_info": {
   "codemirror_mode": {
    "name": "ipython",
    "version": 3
   },
   "file_extension": ".py",
   "mimetype": "text/x-python",
   "name": "python",
   "nbconvert_exporter": "python",
   "pygments_lexer": "ipython3",
   "version": "3.7.7-final"
  },
  "orig_nbformat": 2,
  "kernelspec": {
   "name": "python3",
   "display_name": "Python 3",
   "language": "python"
  }
 },
 "nbformat": 4,
 "nbformat_minor": 2,
 "cells": [
  {
   "cell_type": "code",
   "execution_count": 113,
   "metadata": {},
   "outputs": [],
   "source": [
    "import requests\n",
    "from tqdm import tqdm\n",
    "from bs4 import BeautifulSoup\n",
    "from glob import glob\n",
    "import os\n",
    "import re\n",
    "import pandas as pd\n",
    "import numpy as np"
   ]
  },
  {
   "cell_type": "code",
   "execution_count": 27,
   "metadata": {},
   "outputs": [],
   "source": [
    "all_files = glob(os.path.join('solar/*.html'))"
   ]
  },
  {
   "cell_type": "code",
   "execution_count": 77,
   "metadata": {},
   "outputs": [],
   "source": [
    "regstr= r\"(global polysilicon|polysilicon|global polysilicon|silicon prices|poly silicon).*(US\\$[0-9]*.?[0-9]*\\/KG|\\$[0-9]*.?[0-9]*\\/KG|USD[0-9]*.?[0-9]*\\/KG)\"\n",
    "pattern=re.compile(pattern=regstr)"
   ]
  },
  {
   "cell_type": "code",
   "execution_count": 89,
   "metadata": {},
   "outputs": [],
   "source": [
    "articles =[]\n",
    "titles =[]\n",
    "dates =[]\n",
    "links = []\n",
    "for file in all_files:\n",
    "    with open(file,\"r\") as f:\n",
    "        #html = requests.get(first).text\n",
    "        soup = BeautifulSoup(f, features=\"html.parser\")\n",
    "        article = soup.find('article').find(\"div\", attrs={\"class\":\"entry-content\"}).text\n",
    "        title = soup.find(\"table\").find(\"h1\").find(\"a\").text\n",
    "        date = soup.find(\"table\").find(\"span\", attrs={\"class\":\"newsdate\"}).text\n",
    "        link = soup.find(\"table\").find(\"h1\").find(\"a\")['href']\n",
    "        articles.append(article)\n",
    "        titles.append(title)\n",
    "        dates.append(date)\n",
    "        links.append(link)"
   ]
  },
  {
   "cell_type": "code",
   "execution_count": 90,
   "metadata": {},
   "outputs": [
    {
     "output_type": "stream",
     "name": "stdout",
     "text": [
      "elements in dates:  499 elements in titles:  499 elements in articles:  499 elements in links:  499\n"
     ]
    }
   ],
   "source": [
    "print('elements in dates: ', len(dates), 'elements in titles: ', len(titles), 'elements in articles: ', len(articles), 'elements in links: ', len(links))"
   ]
  },
  {
   "cell_type": "code",
   "execution_count": 114,
   "metadata": {},
   "outputs": [],
   "source": [
    "temp = {'date': dates, 'title': titles, 'link': links, 'article': articles}\n",
    "df = pd.DataFrame(temp) "
   ]
  },
  {
   "cell_type": "code",
   "execution_count": 115,
   "metadata": {},
   "outputs": [
    {
     "output_type": "execute_result",
     "data": {
      "text/plain": [
       "                  date                                              title  \\\n",
       "0    2019-08-29 16:30   \\n                                Trend: The l...   \n",
       "1    2016-06-03 18:14   \\n                                Price Trend:...   \n",
       "2    2019-11-28 16:59   \\n                                Price Trend:...   \n",
       "3    2011-07-13 18:30   \\n                                Due to Incre...   \n",
       "4    2016-04-08 18:12   \\n                                Taiwan-made ...   \n",
       "..                 ...                                                ...   \n",
       "494  2016-09-01 18:08   \\n                                PV Quotes Un...   \n",
       "495  2016-07-21 11:23   \\n                                PV Cell Make...   \n",
       "496  2015-02-13 11:31   \\n                                Spot Prices ...   \n",
       "497  2017-01-05 15:33   \\n                                Margin of PV...   \n",
       "498  2016-05-19 19:07   \\n                                PV Demand Fe...   \n",
       "\n",
       "                                                  link  \\\n",
       "0    https://www.energytrend.com/pricequotes/201908...   \n",
       "1    https://www.energytrend.com/pricequotes/201606...   \n",
       "2    https://www.energytrend.com/pricequotes/201911...   \n",
       "3    https://www.energytrend.com/pricequotes/201107...   \n",
       "4    https://www.energytrend.com/pricequotes/201604...   \n",
       "..                                                 ...   \n",
       "494  https://www.energytrend.com/pricequotes/201609...   \n",
       "495  https://www.energytrend.com/pricequotes/201607...   \n",
       "496  https://www.energytrend.com/pricequotes/201502...   \n",
       "497  https://www.energytrend.com/pricequotes/201701...   \n",
       "498  https://www.energytrend.com/pricequotes/201605...   \n",
       "\n",
       "                                               article  \n",
       "0    \\n\\n\\nThis week the overall market is bottomin...  \n",
       "1    \\n\\nWorld leading manufacturer of multi-si waf...  \n",
       "2    \\n\\nThis week, the overall market sentiment wa...  \n",
       "3    \\n\\nAccording to EnergyTrend’s latest survey, ...  \n",
       "4    \\n\\nIn the China market, polysilicon has been ...  \n",
       "..                                                 ...  \n",
       "494  \\n\\nPV market momentum in China remains weak, ...  \n",
       "495  \\n\\n\\n\\n\\n\\n\\n\\n\\n\\nThe global PV market has e...  \n",
       "496  \\n\\n\\n\\n\\n\\n\\n\\n\\n\\nAs it enters into February...  \n",
       "497  \\n\\nFor the whole January, orders for solar pr...  \n",
       "498  \\n\\nMembers of the PV industry will be gatheri...  \n",
       "\n",
       "[499 rows x 4 columns]"
      ],
      "text/html": "<div>\n<style scoped>\n    .dataframe tbody tr th:only-of-type {\n        vertical-align: middle;\n    }\n\n    .dataframe tbody tr th {\n        vertical-align: top;\n    }\n\n    .dataframe thead th {\n        text-align: right;\n    }\n</style>\n<table border=\"1\" class=\"dataframe\">\n  <thead>\n    <tr style=\"text-align: right;\">\n      <th></th>\n      <th>date</th>\n      <th>title</th>\n      <th>link</th>\n      <th>article</th>\n    </tr>\n  </thead>\n  <tbody>\n    <tr>\n      <th>0</th>\n      <td>2019-08-29 16:30</td>\n      <td>\\n                                Trend: The l...</td>\n      <td>https://www.energytrend.com/pricequotes/201908...</td>\n      <td>\\n\\n\\nThis week the overall market is bottomin...</td>\n    </tr>\n    <tr>\n      <th>1</th>\n      <td>2016-06-03 18:14</td>\n      <td>\\n                                Price Trend:...</td>\n      <td>https://www.energytrend.com/pricequotes/201606...</td>\n      <td>\\n\\nWorld leading manufacturer of multi-si waf...</td>\n    </tr>\n    <tr>\n      <th>2</th>\n      <td>2019-11-28 16:59</td>\n      <td>\\n                                Price Trend:...</td>\n      <td>https://www.energytrend.com/pricequotes/201911...</td>\n      <td>\\n\\nThis week, the overall market sentiment wa...</td>\n    </tr>\n    <tr>\n      <th>3</th>\n      <td>2011-07-13 18:30</td>\n      <td>\\n                                Due to Incre...</td>\n      <td>https://www.energytrend.com/pricequotes/201107...</td>\n      <td>\\n\\nAccording to EnergyTrend’s latest survey, ...</td>\n    </tr>\n    <tr>\n      <th>4</th>\n      <td>2016-04-08 18:12</td>\n      <td>\\n                                Taiwan-made ...</td>\n      <td>https://www.energytrend.com/pricequotes/201604...</td>\n      <td>\\n\\nIn the China market, polysilicon has been ...</td>\n    </tr>\n    <tr>\n      <th>...</th>\n      <td>...</td>\n      <td>...</td>\n      <td>...</td>\n      <td>...</td>\n    </tr>\n    <tr>\n      <th>494</th>\n      <td>2016-09-01 18:08</td>\n      <td>\\n                                PV Quotes Un...</td>\n      <td>https://www.energytrend.com/pricequotes/201609...</td>\n      <td>\\n\\nPV market momentum in China remains weak, ...</td>\n    </tr>\n    <tr>\n      <th>495</th>\n      <td>2016-07-21 11:23</td>\n      <td>\\n                                PV Cell Make...</td>\n      <td>https://www.energytrend.com/pricequotes/201607...</td>\n      <td>\\n\\n\\n\\n\\n\\n\\n\\n\\n\\nThe global PV market has e...</td>\n    </tr>\n    <tr>\n      <th>496</th>\n      <td>2015-02-13 11:31</td>\n      <td>\\n                                Spot Prices ...</td>\n      <td>https://www.energytrend.com/pricequotes/201502...</td>\n      <td>\\n\\n\\n\\n\\n\\n\\n\\n\\n\\nAs it enters into February...</td>\n    </tr>\n    <tr>\n      <th>497</th>\n      <td>2017-01-05 15:33</td>\n      <td>\\n                                Margin of PV...</td>\n      <td>https://www.energytrend.com/pricequotes/201701...</td>\n      <td>\\n\\nFor the whole January, orders for solar pr...</td>\n    </tr>\n    <tr>\n      <th>498</th>\n      <td>2016-05-19 19:07</td>\n      <td>\\n                                PV Demand Fe...</td>\n      <td>https://www.energytrend.com/pricequotes/201605...</td>\n      <td>\\n\\nMembers of the PV industry will be gatheri...</td>\n    </tr>\n  </tbody>\n</table>\n<p>499 rows × 4 columns</p>\n</div>"
     },
     "metadata": {},
     "execution_count": 115
    }
   ],
   "source": [
    "df"
   ]
  },
  {
   "cell_type": "code",
   "execution_count": 110,
   "metadata": {},
   "outputs": [],
   "source": [
    "parsed_cost=[]\n",
    "for article in articles:\n",
    "    for match in pattern.finditer(article.replace('\\n',' ')):\n",
    "        if isinstance(match[0], str):\n",
    "            parsed_cost.append(match[0])\n",
    "        else:\n",
    "            parsed_cost.append('')"
   ]
  },
  {
   "cell_type": "code",
   "execution_count": 94,
   "metadata": {},
   "outputs": [],
   "source": [
    "#pattern.finditer(article)\n",
    "for m in pattern.finditer(article.replace('\\n',' ')):\n",
    "    print(m[0])"
   ]
  },
  {
   "cell_type": "code",
   "execution_count": 193,
   "metadata": {},
   "outputs": [],
   "source": [
    "def my_reg(article):\n",
    "    regstr= r\"(global polysilicon|polysilicon|global polysilicon|silicon prices|poly silicon|poly ).*US\\$[0-9]*.?[0-9]*\\/KG|\\$[0-9]*.?[0-9]*\\/KG|USD[0-9]*.?[0-9]*\\/KG|US\\$[0-9]*.?[0-9]*\\/|\\$[0-9]*.?[0-9]*\\/|USD[0-9]*.?[0-9]*\\/|USD\\$[0-9]*.?[0-9]*\\)\"\n",
    "    #regstr2= r\"(global polysilicon|polysilicon|global polysilicon|silicon prices|poly silicon|poly ).*(US\\$[0-9]*.?[0-9]*\\/|\\$[0-9]*.?[0-9]*\\/|USD[0-9]*.?[0-9]*\\/|USD\\$[0-9]*.?[0-9]*\\/)\"\n",
    "    pattern=re.compile(pattern=regstr)\n",
    "    #pattern2=re.compile(pattern=regstr2)\n",
    "    for match in pattern.finditer(article.replace('\\n',' ')):\n",
    "        if match[0]!= None:\n",
    "            return match[0]\n",
    "        # else: \n",
    "        #    for match2 in pattern2.finditer(article.replace('\\n',' ')):\n",
    "        #        return match2[0]\n",
    "\n",
    "    "
   ]
  },
  {
   "cell_type": "code",
   "execution_count": 194,
   "metadata": {},
   "outputs": [],
   "source": [
    "df['cost_parsed']=df.article.apply(my_reg)"
   ]
  },
  {
   "cell_type": "code",
   "execution_count": 103,
   "metadata": {},
   "outputs": [
    {
     "output_type": "execute_result",
     "data": {
      "text/plain": [
       "'polysilicon is still affected by the exchange rate, which gradually spread to the overseas prices of downstream wafers. The quoted overseas prices of the two major manufacturers are reduced this month, indicating that the mood of the domestic market is still optimistic. The cells and modules continue to wait for their window of opportunity. In the future, domestic projects are getting evaluated and negotiated. It is estimated that all purchases will be completed before China’s Golden Week Holiday in October. The projects will commence after the holiday. As for the overseas market, numerous projects will show more progress after the hot summer is passed. In particular, the projects that have to be completed this year will increase domestic demand. It is expected that this dynamic will drive the market to flourish. Polysilicon The overseas market price of polysilicon is still under the spell of fluctuations of the foreign exchange. The overall price is revised downwards. The domestic market is mainly stable. In the overseas market, the range of the price revision is 8.75~9.74USD/KG at the moment. The average price is lowered to 9.07USD/KG. The global average price is lowered to 8.96USD/KG'"
      ]
     },
     "metadata": {},
     "execution_count": 103
    }
   ],
   "source": [
    "m[0]"
   ]
  },
  {
   "cell_type": "code",
   "execution_count": 104,
   "metadata": {},
   "outputs": [
    {
     "output_type": "execute_result",
     "data": {
      "text/plain": [
       "'polysilicon'"
      ]
     },
     "metadata": {},
     "execution_count": 104
    }
   ],
   "source": [
    "m[1]"
   ]
  },
  {
   "cell_type": "code",
   "execution_count": 105,
   "metadata": {},
   "outputs": [
    {
     "output_type": "execute_result",
     "data": {
      "text/plain": [
       "'USD/KG'"
      ]
     },
     "metadata": {},
     "execution_count": 105
    }
   ],
   "source": [
    "m[2]"
   ]
  },
  {
   "cell_type": "code",
   "execution_count": 117,
   "metadata": {},
   "outputs": [
    {
     "output_type": "execute_result",
     "data": {
      "text/plain": [
       "['__class__',\n",
       " '__copy__',\n",
       " '__deepcopy__',\n",
       " '__delattr__',\n",
       " '__dir__',\n",
       " '__doc__',\n",
       " '__eq__',\n",
       " '__format__',\n",
       " '__ge__',\n",
       " '__getattribute__',\n",
       " '__getitem__',\n",
       " '__gt__',\n",
       " '__hash__',\n",
       " '__init__',\n",
       " '__init_subclass__',\n",
       " '__le__',\n",
       " '__lt__',\n",
       " '__ne__',\n",
       " '__new__',\n",
       " '__reduce__',\n",
       " '__reduce_ex__',\n",
       " '__repr__',\n",
       " '__setattr__',\n",
       " '__sizeof__',\n",
       " '__str__',\n",
       " '__subclasshook__',\n",
       " 'end',\n",
       " 'endpos',\n",
       " 'expand',\n",
       " 'group',\n",
       " 'groupdict',\n",
       " 'groups',\n",
       " 'lastgroup',\n",
       " 'lastindex',\n",
       " 'pos',\n",
       " 're',\n",
       " 'regs',\n",
       " 'span',\n",
       " 'start',\n",
       " 'string']"
      ]
     },
     "metadata": {},
     "execution_count": 117
    }
   ],
   "source": [
    "dir(m)"
   ]
  },
  {
   "cell_type": "code",
   "execution_count": 120,
   "metadata": {},
   "outputs": [
    {
     "output_type": "execute_result",
     "data": {
      "text/plain": [
       "'   This week the overall market is bottoming out. The price of cells, which suffered the sharpest drop in the past, are no longer falling, at least it seems to have stabilized for the past two weeks. The next step is to see when the demand will rise. The price of the upstream overseas polysilicon is still affected by the exchange rate, which gradually spread to the overseas prices of downstream wafers. The quoted overseas prices of the two major manufacturers are reduced this month, indicating that the mood of the domestic market is still optimistic. The cells and modules continue to wait for their window of opportunity. In the future, domestic projects are getting evaluated and negotiated. It is estimated that all purchases will be completed before China’s Golden Week Holiday in October. The projects will commence after the holiday. As for the overseas market, numerous projects will show more progress after the hot summer is passed. In particular, the projects that have to be completed this year will increase domestic demand. It is expected that this dynamic will drive the market to flourish. Polysilicon The overseas market price of polysilicon is still under the spell of fluctuations of the foreign exchange. The overall price is revised downwards. The domestic market is mainly stable. In the overseas market, the range of the price revision is 8.75~9.74USD/KG at the moment. The average price is lowered to 9.07USD/KG. The global average price is lowered to 8.96USD/KG. In the domestic markets, the price range of polysilicon remains unchanged at 56~62RMB/KG. The price range of the mono polysilicon remains unchanged at 74~78RMB/KG. Wafers The wafer market trend remains stable this week, which coincides with the time where the major manufacturers provide their average contract price at the end of the month. There is no change in the domestic market. However, the overseas market is affected by the exchange rate. The range of the price revision is about 0.01USD/Pc. In the overseas market, the price of the 156.75mm mono-Si wafers is reduced to 0.403USD/Pc at the moment. The price of the 158.75mm mono-Si wafers is reduced to 0.440USD/Pc. The price of the mono-Si wafers with the size of 161.75mm and above is reduced to 0.450USD/Pc. The price range of the multi-Si wafers remains unchanged at 0.231~0.234USD/Pc. The price of the black silicon products remains unchanged at 0.260USD/Pc. In the domestic market, the price range of the mono-Si wafers remains unchanged at 3.07RMB/Pc. Low resistance wafers are 3.12RMB/Pc. The price of the large-size products has increased to 3.45RMB/Pc, which is estimated to be due to the M4- or M6-size products. The range of the multi-Si wafers price revision remains unchanged at 1.80~1.83RMB/Pc. The price of the black silicon products remains unchanged at 2.06RMB/Pc. Cells The market price of the cells continued to maintain stability this week. Although the inventory level of the manufacturers is still high, the market is no longer willing to have the price lowered any further. The price seems to have bottomed out. In the overseas market, the price range of the general multi-Si cells remains unchanged at 0.104~0.123USD/W. The price range of the general mono-Si cells remains unchanged at 0.105~0.115USD/W. The price range of the high-efficiency mono-Si cells remains unchanged at 0.131~0.150USD/W. The price range of the superior high-efficiency mono-Si cells (>21.5%) remains unchanged at 0.125~0.190USD/W. In the domestic market, the price range of the general multi-Si cells remains unchanged at 0.80~0.84RMB/W. The price of the high-efficiency multi-Si cells remains unchanged at 0.85RMB/W. The price range of the general mono-Si cells remains unchanged at 0.81~0.86RMB/W. The price range of the high-efficiency mono-Si cells remains unchanged at 0.93~0.97RMB/W. The price range of the superior high-efficiency mono-Si cells (>21.5%) remains unchanged at 0.95~1.02RMB/W. The price of the bifacial high-efficiency mono-Si cells remains unchanged at 0.98RMB/W.The price of the bifacial superior high-efficiency mono-Si cells (>21.5%) remains unchanged at 1.03RMB/W. Modules The module market remains stable, waiting for the market to recover. In the overseas market, the price range of the general multi-Si (270-275W) remains unchanged at 0.205~0.248USD/W at the moment.The price range of high-efficiency multi-Si (280-285W) remains unchanged at 0.216~0.220USD/W. The price range of the general mono-Si (290-295W) remains unchanged at 0.235~0.251USD/W. The price range of the high-efficiency mono-Si (300-305W) remains unchanged at 0.265~0.330USD/W. The price range of the superior-high efficiency mono-Si (>310W) remains unchanged at 0.242~0.405USD/W. In the domestic market, the price range of the general multi-Si (270W~275W) remains unchanged at 1.63~1.75RMB/W. The price range of the high-efficiency multi-Si (280W~285W) remains unchanged at 1.78~1.85RMB/W. The price range of the general mono-Si (290W~295W) remains unchanged at 1.83~1.90RMB/W. The price range of high-efficiency mono-Si (300-305W) remains unchanged at 1.90~2.05RMB/W. The price range of the superior-high efficiency mono-Si (>310W) remains unchanged at 1.95~2.13RMB/W.  '"
      ]
     },
     "metadata": {},
     "execution_count": 120
    }
   ],
   "source": [
    "m.string"
   ]
  },
  {
   "cell_type": "code",
   "execution_count": 135,
   "metadata": {},
   "outputs": [
    {
     "output_type": "execute_result",
     "data": {
      "text/plain": [
       "'polysilicon is still affected by the exchange rate, which gradually spread to the overseas prices of downstream wafers. The quoted overseas prices of the two major manufacturers are reduced this month, indicating that the mood of the domestic market is still optimistic. The cells and modules continue to wait for their window of opportunity. In the future, domestic projects are getting evaluated and negotiated. It is estimated that all purchases will be completed before China’s Golden Week Holiday in October. The projects will commence after the holiday. As for the overseas market, numerous projects will show more progress after the hot summer is passed. In particular, the projects that have to be completed this year will increase domestic demand. It is expected that this dynamic will drive the market to flourish. Polysilicon The overseas market price of polysilicon is still under the spell of fluctuations of the foreign exchange. The overall price is revised downwards. The domestic market is mainly stable. In the overseas market, the range of the price revision is 8.75~9.74USD/KG at the moment. The average price is lowered to 9.07USD/KG. The global average price is lowered to 8.96USD/KG'"
      ]
     },
     "metadata": {},
     "execution_count": 135
    }
   ],
   "source": [
    "m[0]"
   ]
  },
  {
   "cell_type": "code",
   "execution_count": 182,
   "metadata": {},
   "outputs": [
    {
     "output_type": "stream",
     "name": "stdout",
     "text": [
      "<class 'pandas.core.frame.DataFrame'>\nRangeIndex: 499 entries, 0 to 498\nData columns (total 5 columns):\n #   Column       Non-Null Count  Dtype \n---  ------       --------------  ----- \n 0   date         499 non-null    object\n 1   title        499 non-null    object\n 2   link         499 non-null    object\n 3   article      499 non-null    object\n 4   cost_parsed  278 non-null    object\ndtypes: object(5)\nmemory usage: 19.6+ KB\n"
     ]
    }
   ],
   "source": [
    "df.info()"
   ]
  },
  {
   "cell_type": "code",
   "execution_count": 195,
   "metadata": {},
   "outputs": [
    {
     "output_type": "execute_result",
     "data": {
      "text/plain": [
       "                  date                                              title  \\\n",
       "17   2010-04-02 14:50   \\n                                Solar Panel ...   \n",
       "245  2010-05-20 16:46   \\n                                EnergyTrend:...   \n",
       "165  2010-05-20 17:20   \\n                                Solar Cell P...   \n",
       "429  2010-07-15 17:17   \\n                                EnergyTrend:...   \n",
       "67   2010-10-12 18:14   \\n                                Price of Sol...   \n",
       "..                 ...                                                ...   \n",
       "174  2020-12-09 17:33   \\n                                Photovoltaic...   \n",
       "120  2020-12-16 17:06   \\n                                Photovoltaic...   \n",
       "205  2020-12-23 18:10   \\n                                Photovoltaic...   \n",
       "76    2020-12-31 9:15   \\n                                Photovoltaic...   \n",
       "306  2021-01-06 15:31   \\n                                Photovoltaic...   \n",
       "\n",
       "                                                  link  \\\n",
       "17   https://www.energytrend.com/pricequotes/201004...   \n",
       "245  https://www.energytrend.com/pricequotes/201005...   \n",
       "165  https://www.energytrend.com/pricequotes/201005...   \n",
       "429  https://www.energytrend.com/pricequotes/201007...   \n",
       "67   https://www.energytrend.com/pricequotes/201010...   \n",
       "..                                                 ...   \n",
       "174  https://www.energytrend.com/pricequotes/202012...   \n",
       "120  https://www.energytrend.com/pricequotes/202012...   \n",
       "205  https://www.energytrend.com/pricequotes/202012...   \n",
       "76   https://www.energytrend.com/pricequotes/202012...   \n",
       "306  https://www.energytrend.com/pricequotes/202101...   \n",
       "\n",
       "                                               article cost_parsed  \n",
       "17   \\n\\n\\nSolar Cell Price\\n\\n\\n\\n\\nEnergyTrend co...        None  \n",
       "245  \\n\\n\\n\\tDue to the increasing demand and the s...        $50/  \n",
       "165  \\n\\n\\n\\tAccording to EnergyTrend’s survey, Ger...      $1.35/  \n",
       "429  \\n\\n\\n\\t \\n\\n\\nAccording to EnergyTrend, a res...        None  \n",
       "67   \\n\\nAffected by the forecasted declining marke...      $1.21/  \n",
       "..                                                 ...         ...  \n",
       "174  \\n\\n \\nPolysilicon \\nThe quotations of polysil...  US$10.588/  \n",
       "120  \\n\\n \\nPolysilicon\\nThe quotations for polysil...    US$0.42/  \n",
       "205  \\n\\n \\nPolysilicon \\nDownstream procurement an...    US$0.42/  \n",
       "76   \\n\\n \\nPolysilicon \\nQuotations of polysilicon...   US$0.435/  \n",
       "306  \\n\\n\\nPolysilicon \\nThe advanced stocking from...  US$10.931/  \n",
       "\n",
       "[499 rows x 5 columns]"
      ],
      "text/html": "<div>\n<style scoped>\n    .dataframe tbody tr th:only-of-type {\n        vertical-align: middle;\n    }\n\n    .dataframe tbody tr th {\n        vertical-align: top;\n    }\n\n    .dataframe thead th {\n        text-align: right;\n    }\n</style>\n<table border=\"1\" class=\"dataframe\">\n  <thead>\n    <tr style=\"text-align: right;\">\n      <th></th>\n      <th>date</th>\n      <th>title</th>\n      <th>link</th>\n      <th>article</th>\n      <th>cost_parsed</th>\n    </tr>\n  </thead>\n  <tbody>\n    <tr>\n      <th>17</th>\n      <td>2010-04-02 14:50</td>\n      <td>\\n                                Solar Panel ...</td>\n      <td>https://www.energytrend.com/pricequotes/201004...</td>\n      <td>\\n\\n\\nSolar Cell Price\\n\\n\\n\\n\\nEnergyTrend co...</td>\n      <td>None</td>\n    </tr>\n    <tr>\n      <th>245</th>\n      <td>2010-05-20 16:46</td>\n      <td>\\n                                EnergyTrend:...</td>\n      <td>https://www.energytrend.com/pricequotes/201005...</td>\n      <td>\\n\\n\\n\\tDue to the increasing demand and the s...</td>\n      <td>$50/</td>\n    </tr>\n    <tr>\n      <th>165</th>\n      <td>2010-05-20 17:20</td>\n      <td>\\n                                Solar Cell P...</td>\n      <td>https://www.energytrend.com/pricequotes/201005...</td>\n      <td>\\n\\n\\n\\tAccording to EnergyTrend’s survey, Ger...</td>\n      <td>$1.35/</td>\n    </tr>\n    <tr>\n      <th>429</th>\n      <td>2010-07-15 17:17</td>\n      <td>\\n                                EnergyTrend:...</td>\n      <td>https://www.energytrend.com/pricequotes/201007...</td>\n      <td>\\n\\n\\n\\t \\n\\n\\nAccording to EnergyTrend, a res...</td>\n      <td>None</td>\n    </tr>\n    <tr>\n      <th>67</th>\n      <td>2010-10-12 18:14</td>\n      <td>\\n                                Price of Sol...</td>\n      <td>https://www.energytrend.com/pricequotes/201010...</td>\n      <td>\\n\\nAffected by the forecasted declining marke...</td>\n      <td>$1.21/</td>\n    </tr>\n    <tr>\n      <th>...</th>\n      <td>...</td>\n      <td>...</td>\n      <td>...</td>\n      <td>...</td>\n      <td>...</td>\n    </tr>\n    <tr>\n      <th>174</th>\n      <td>2020-12-09 17:33</td>\n      <td>\\n                                Photovoltaic...</td>\n      <td>https://www.energytrend.com/pricequotes/202012...</td>\n      <td>\\n\\n \\nPolysilicon \\nThe quotations of polysil...</td>\n      <td>US$10.588/</td>\n    </tr>\n    <tr>\n      <th>120</th>\n      <td>2020-12-16 17:06</td>\n      <td>\\n                                Photovoltaic...</td>\n      <td>https://www.energytrend.com/pricequotes/202012...</td>\n      <td>\\n\\n \\nPolysilicon\\nThe quotations for polysil...</td>\n      <td>US$0.42/</td>\n    </tr>\n    <tr>\n      <th>205</th>\n      <td>2020-12-23 18:10</td>\n      <td>\\n                                Photovoltaic...</td>\n      <td>https://www.energytrend.com/pricequotes/202012...</td>\n      <td>\\n\\n \\nPolysilicon \\nDownstream procurement an...</td>\n      <td>US$0.42/</td>\n    </tr>\n    <tr>\n      <th>76</th>\n      <td>2020-12-31 9:15</td>\n      <td>\\n                                Photovoltaic...</td>\n      <td>https://www.energytrend.com/pricequotes/202012...</td>\n      <td>\\n\\n \\nPolysilicon \\nQuotations of polysilicon...</td>\n      <td>US$0.435/</td>\n    </tr>\n    <tr>\n      <th>306</th>\n      <td>2021-01-06 15:31</td>\n      <td>\\n                                Photovoltaic...</td>\n      <td>https://www.energytrend.com/pricequotes/202101...</td>\n      <td>\\n\\n\\nPolysilicon \\nThe advanced stocking from...</td>\n      <td>US$10.931/</td>\n    </tr>\n  </tbody>\n</table>\n<p>499 rows × 5 columns</p>\n</div>"
     },
     "metadata": {},
     "execution_count": 195
    }
   ],
   "source": [
    "df"
   ]
  },
  {
   "cell_type": "code",
   "execution_count": 196,
   "metadata": {},
   "outputs": [],
   "source": [
    "df = df.sort_values('date')\n"
   ]
  },
  {
   "cell_type": "code",
   "execution_count": 197,
   "metadata": {},
   "outputs": [
    {
     "output_type": "execute_result",
     "data": {
      "text/plain": [
       "     index               date  \\\n",
       "0       17  2010-04-02 14:50    \n",
       "1      245  2010-05-20 16:46    \n",
       "2      165  2010-05-20 17:20    \n",
       "3      429  2010-07-15 17:17    \n",
       "4       67  2010-10-12 18:14    \n",
       "..     ...                ...   \n",
       "494    174  2020-12-09 17:33    \n",
       "495    120  2020-12-16 17:06    \n",
       "496    205  2020-12-23 18:10    \n",
       "497     76   2020-12-31 9:15    \n",
       "498    306  2021-01-06 15:31    \n",
       "\n",
       "                                                 title  \\\n",
       "0    \\n                                Solar Panel ...   \n",
       "1    \\n                                EnergyTrend:...   \n",
       "2    \\n                                Solar Cell P...   \n",
       "3    \\n                                EnergyTrend:...   \n",
       "4    \\n                                Price of Sol...   \n",
       "..                                                 ...   \n",
       "494  \\n                                Photovoltaic...   \n",
       "495  \\n                                Photovoltaic...   \n",
       "496  \\n                                Photovoltaic...   \n",
       "497  \\n                                Photovoltaic...   \n",
       "498  \\n                                Photovoltaic...   \n",
       "\n",
       "                                                  link  \\\n",
       "0    https://www.energytrend.com/pricequotes/201004...   \n",
       "1    https://www.energytrend.com/pricequotes/201005...   \n",
       "2    https://www.energytrend.com/pricequotes/201005...   \n",
       "3    https://www.energytrend.com/pricequotes/201007...   \n",
       "4    https://www.energytrend.com/pricequotes/201010...   \n",
       "..                                                 ...   \n",
       "494  https://www.energytrend.com/pricequotes/202012...   \n",
       "495  https://www.energytrend.com/pricequotes/202012...   \n",
       "496  https://www.energytrend.com/pricequotes/202012...   \n",
       "497  https://www.energytrend.com/pricequotes/202012...   \n",
       "498  https://www.energytrend.com/pricequotes/202101...   \n",
       "\n",
       "                                               article cost_parsed  \n",
       "0    \\n\\n\\nSolar Cell Price\\n\\n\\n\\n\\nEnergyTrend co...        None  \n",
       "1    \\n\\n\\n\\tDue to the increasing demand and the s...        $50/  \n",
       "2    \\n\\n\\n\\tAccording to EnergyTrend’s survey, Ger...      $1.35/  \n",
       "3    \\n\\n\\n\\t \\n\\n\\nAccording to EnergyTrend, a res...        None  \n",
       "4    \\n\\nAffected by the forecasted declining marke...      $1.21/  \n",
       "..                                                 ...         ...  \n",
       "494  \\n\\n \\nPolysilicon \\nThe quotations of polysil...  US$10.588/  \n",
       "495  \\n\\n \\nPolysilicon\\nThe quotations for polysil...    US$0.42/  \n",
       "496  \\n\\n \\nPolysilicon \\nDownstream procurement an...    US$0.42/  \n",
       "497  \\n\\n \\nPolysilicon \\nQuotations of polysilicon...   US$0.435/  \n",
       "498  \\n\\n\\nPolysilicon \\nThe advanced stocking from...  US$10.931/  \n",
       "\n",
       "[499 rows x 6 columns]"
      ],
      "text/html": "<div>\n<style scoped>\n    .dataframe tbody tr th:only-of-type {\n        vertical-align: middle;\n    }\n\n    .dataframe tbody tr th {\n        vertical-align: top;\n    }\n\n    .dataframe thead th {\n        text-align: right;\n    }\n</style>\n<table border=\"1\" class=\"dataframe\">\n  <thead>\n    <tr style=\"text-align: right;\">\n      <th></th>\n      <th>index</th>\n      <th>date</th>\n      <th>title</th>\n      <th>link</th>\n      <th>article</th>\n      <th>cost_parsed</th>\n    </tr>\n  </thead>\n  <tbody>\n    <tr>\n      <th>0</th>\n      <td>17</td>\n      <td>2010-04-02 14:50</td>\n      <td>\\n                                Solar Panel ...</td>\n      <td>https://www.energytrend.com/pricequotes/201004...</td>\n      <td>\\n\\n\\nSolar Cell Price\\n\\n\\n\\n\\nEnergyTrend co...</td>\n      <td>None</td>\n    </tr>\n    <tr>\n      <th>1</th>\n      <td>245</td>\n      <td>2010-05-20 16:46</td>\n      <td>\\n                                EnergyTrend:...</td>\n      <td>https://www.energytrend.com/pricequotes/201005...</td>\n      <td>\\n\\n\\n\\tDue to the increasing demand and the s...</td>\n      <td>$50/</td>\n    </tr>\n    <tr>\n      <th>2</th>\n      <td>165</td>\n      <td>2010-05-20 17:20</td>\n      <td>\\n                                Solar Cell P...</td>\n      <td>https://www.energytrend.com/pricequotes/201005...</td>\n      <td>\\n\\n\\n\\tAccording to EnergyTrend’s survey, Ger...</td>\n      <td>$1.35/</td>\n    </tr>\n    <tr>\n      <th>3</th>\n      <td>429</td>\n      <td>2010-07-15 17:17</td>\n      <td>\\n                                EnergyTrend:...</td>\n      <td>https://www.energytrend.com/pricequotes/201007...</td>\n      <td>\\n\\n\\n\\t \\n\\n\\nAccording to EnergyTrend, a res...</td>\n      <td>None</td>\n    </tr>\n    <tr>\n      <th>4</th>\n      <td>67</td>\n      <td>2010-10-12 18:14</td>\n      <td>\\n                                Price of Sol...</td>\n      <td>https://www.energytrend.com/pricequotes/201010...</td>\n      <td>\\n\\nAffected by the forecasted declining marke...</td>\n      <td>$1.21/</td>\n    </tr>\n    <tr>\n      <th>...</th>\n      <td>...</td>\n      <td>...</td>\n      <td>...</td>\n      <td>...</td>\n      <td>...</td>\n      <td>...</td>\n    </tr>\n    <tr>\n      <th>494</th>\n      <td>174</td>\n      <td>2020-12-09 17:33</td>\n      <td>\\n                                Photovoltaic...</td>\n      <td>https://www.energytrend.com/pricequotes/202012...</td>\n      <td>\\n\\n \\nPolysilicon \\nThe quotations of polysil...</td>\n      <td>US$10.588/</td>\n    </tr>\n    <tr>\n      <th>495</th>\n      <td>120</td>\n      <td>2020-12-16 17:06</td>\n      <td>\\n                                Photovoltaic...</td>\n      <td>https://www.energytrend.com/pricequotes/202012...</td>\n      <td>\\n\\n \\nPolysilicon\\nThe quotations for polysil...</td>\n      <td>US$0.42/</td>\n    </tr>\n    <tr>\n      <th>496</th>\n      <td>205</td>\n      <td>2020-12-23 18:10</td>\n      <td>\\n                                Photovoltaic...</td>\n      <td>https://www.energytrend.com/pricequotes/202012...</td>\n      <td>\\n\\n \\nPolysilicon \\nDownstream procurement an...</td>\n      <td>US$0.42/</td>\n    </tr>\n    <tr>\n      <th>497</th>\n      <td>76</td>\n      <td>2020-12-31 9:15</td>\n      <td>\\n                                Photovoltaic...</td>\n      <td>https://www.energytrend.com/pricequotes/202012...</td>\n      <td>\\n\\n \\nPolysilicon \\nQuotations of polysilicon...</td>\n      <td>US$0.435/</td>\n    </tr>\n    <tr>\n      <th>498</th>\n      <td>306</td>\n      <td>2021-01-06 15:31</td>\n      <td>\\n                                Photovoltaic...</td>\n      <td>https://www.energytrend.com/pricequotes/202101...</td>\n      <td>\\n\\n\\nPolysilicon \\nThe advanced stocking from...</td>\n      <td>US$10.931/</td>\n    </tr>\n  </tbody>\n</table>\n<p>499 rows × 6 columns</p>\n</div>"
     },
     "metadata": {},
     "execution_count": 197
    }
   ],
   "source": [
    "df.reset_index()"
   ]
  },
  {
   "cell_type": "code",
   "execution_count": 198,
   "metadata": {},
   "outputs": [],
   "source": [
    "df.to_csv('silicon_price.csv',index=False)"
   ]
  },
  {
   "cell_type": "code",
   "execution_count": 158,
   "metadata": {},
   "outputs": [
    {
     "output_type": "execute_result",
     "data": {
      "text/plain": [
       "'/home/aydin/Desktop/dsi_lax3/capstones/predicting-solar-installations/src'"
      ]
     },
     "metadata": {},
     "execution_count": 158
    }
   ],
   "source": [
    "pwd"
   ]
  },
  {
   "cell_type": "code",
   "execution_count": null,
   "metadata": {},
   "outputs": [],
   "source": []
  }
 ]
}